{
  "nbformat": 4,
  "nbformat_minor": 0,
  "metadata": {
    "colab": {
      "provenance": [],
      "authorship_tag": "ABX9TyOt2FnZOVsei+mCzepXk5X/",
      "include_colab_link": true
    },
    "kernelspec": {
      "name": "python3",
      "display_name": "Python 3"
    },
    "language_info": {
      "name": "python"
    }
  },
  "cells": [
    {
      "cell_type": "markdown",
      "metadata": {
        "id": "view-in-github",
        "colab_type": "text"
      },
      "source": [
        "<a href=\"https://colab.research.google.com/github/samanthagonzales14/CS5530_HW1/blob/main/CS5530_HW1_Q1.ipynb\" target=\"_parent\"><img src=\"https://colab.research.google.com/assets/colab-badge.svg\" alt=\"Open In Colab\"/></a>"
      ]
    },
    {
      "cell_type": "markdown",
      "source": [
        "# Folder Structure\n"
      ],
      "metadata": {
        "id": "Uc9rWAB3brOF"
      }
    },
    {
      "cell_type": "code",
      "execution_count": null,
      "metadata": {
        "id": "ogjxVxFQbnHc"
      },
      "outputs": [],
      "source": [
        "|-- frailty_study/\n",
        "|   │-- data_raw/\n",
        "│       |-- frailty_data.csv\n",
        "│       |-- README.txt\n",
        "|   │-- data_clean/\n",
        "│       |-- clean_frailty_data.csv\n",
        "|   |-- src/\n",
        "|       |-- clean_data.ipynb\n",
        "|       |-- frailty_analysis.ipynb\n",
        "|   │-- results/\n",
        "│       |-- frailty_analysis.txt"
      ]
    },
    {
      "cell_type": "markdown",
      "source": [
        "# Three Stages of Reproducible Workflow for Frailty Study\n",
        "\n"
      ],
      "metadata": {
        "id": "JmH-9YD_eEt2"
      }
    },
    {
      "cell_type": "markdown",
      "source": [
        "Stage 1 Data Collection:\n",
        "\n",
        "*   Collect data on \"Height\", \"Weight\", \"Age\", \"Grip Strength\", and \"Frailty\" from table\n",
        "*   Store the raw data in CSV Format, such as \"frailty_data.csv\"\n",
        "*   Document the data sources and the variables in a README.txt file\n",
        "\n",
        "\n",
        "\n",
        "\n",
        "\n"
      ],
      "metadata": {
        "id": "p485on_veTf3"
      }
    },
    {
      "cell_type": "code",
      "source": [
        "|-- frailty_study/\n",
        "|   │-- data_raw/\n",
        "│       |-- frailty_data.csv\n",
        "│       |-- README.txt"
      ],
      "metadata": {
        "id": "CLTdrwuPiama"
      },
      "execution_count": null,
      "outputs": []
    },
    {
      "cell_type": "markdown",
      "source": [
        "Stage 2 Data Processing/Cleaning:\n",
        "\n",
        "* Familarize with the dataset\n",
        "* Check for missing values, duplicates, outliers\n",
        "*   Convert the categorical column \"Frailty\" to dummy variables like 0-No & 1-Yes\n",
        "* Save cleaned data, clean_frailty_data.csv\n",
        "  \n",
        "\n",
        "\n",
        "\n"
      ],
      "metadata": {
        "id": "RmIDF6AxgCRH"
      }
    },
    {
      "cell_type": "code",
      "source": [
        "|-- frailty_study/\n",
        "|   │-- data_clean/\n",
        "│       |-- clean_frailty_data.csv\n",
        "|   |-- src/\n",
        "|       |-- clean_data.ipynb"
      ],
      "metadata": {
        "id": "Gq50exjJicQB"
      },
      "execution_count": null,
      "outputs": []
    },
    {
      "cell_type": "markdown",
      "source": [
        "Stage 3 Data Analysis:\n",
        "\n",
        "*   Calculate statistics for numerical columns like the mean, median, and standard deviations\n",
        "*   Perform correlative analyses like grip strength versus age, weight, and height.\n",
        "* Create visualizations such as bar graphs, scatterplots, histograms to visualize the data\n",
        "* Create files to store analysis results and visualizations\n",
        "\n"
      ],
      "metadata": {
        "id": "QrdUdu6sUvg7"
      }
    },
    {
      "cell_type": "code",
      "source": [
        "|-- frailty_study/\n",
        "|   │-- results/\n",
        "│       |-- frailty_analysis.txt\n",
        "|   |-- src/\n",
        "|       |-- clean_data.ipynb\n",
        "|       |-- frailty_analysis.ipynb"
      ],
      "metadata": {
        "id": "03tZ-jTWYaq1"
      },
      "execution_count": null,
      "outputs": []
    }
  ]
}